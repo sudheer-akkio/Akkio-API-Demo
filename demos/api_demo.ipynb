{
 "cells": [
  {
   "cell_type": "code",
   "execution_count": 15,
   "metadata": {},
   "outputs": [],
   "source": [
    "# Setup\n",
    "import akkio\n",
    "import requests\n",
    "akkio.api_key = '463c3703-cb1d-434b-a540-bbcb4b5db0d7'"
   ]
  },
  {
   "cell_type": "code",
   "execution_count": 16,
   "metadata": {},
   "outputs": [
    {
     "name": "stdout",
     "output_type": "stream",
     "text": [
      "{'id': '8jfRs6589pedKa7s8sAW', 'name': 'Store Sales Forecasting', 'created_at': '2023-03-31 16:57:22.040000+00:00'}\n",
      "{'id': '9bIr00oPUZydsj9mGMxo', 'name': 'Mobile Price Classification', 'created_at': '2023-04-04 17:10:06.261000+00:00'}\n",
      "{'id': 'TCETPoYAPL6bZm3WM59Z', 'name': 'Credit Risk Classification', 'created_at': '2023-03-29 13:00:41.782000+00:00'}\n",
      "{'id': 'bheObnFtsPDrDXvaijxJ', 'name': '(model) train.csv', 'created_at': '2023-04-05 16:05:34.568000+00:00', 'predict_fields': ['price_range'], 'ignored_fields': [], 'api': True}\n",
      "{'id': 'oNbIVPPPFPlERq34E3G1', 'name': 'Boston Housing', 'created_at': '2023-03-29 17:32:02.168000+00:00'}\n",
      "{'id': 'vihE1SewobYPdo3RuF0O', 'name': '(model) train.csv', 'created_at': '2023-04-05 15:29:35.431000+00:00', 'predict_fields': ['price_range'], 'ignored_fields': [], 'api': True}\n",
      "Number of models: 6\n",
      "\n"
     ]
    }
   ],
   "source": [
    "# Grab all models\n",
    "models = akkio.get_models()['models']\n",
    "for model in models:\n",
    "    print(model)\n",
    "print(f\"Number of models: {len(models)}\\n\")"
   ]
  },
  {
   "cell_type": "code",
   "execution_count": 17,
   "metadata": {},
   "outputs": [
    {
     "name": "stdout",
     "output_type": "stream",
     "text": [
      "Model: [{'id': '9bIr00oPUZydsj9mGMxo', 'name': 'Mobile Price Classification', 'created_at': '2023-04-04 17:10:06.261000+00:00'}]\n",
      "\n"
     ]
    }
   ],
   "source": [
    "# Find model by model name or id\n",
    "# SNN TODO: Creat get_model utility\n",
    "model_name = \"Mobile Price Classification\"\n",
    "selected_model  = [model for model in models if model['name'] == model_name]\n",
    "print(f\"Model: {selected_model}\\n\")"
   ]
  },
  {
   "attachments": {},
   "cell_type": "markdown",
   "metadata": {},
   "source": [
    "API routing code:\n",
    "\n",
    " ```python\n",
    " if request.method == 'POST':\n",
    "  if id:\n",
    "    if len(id.split('/')) > 1:\n",
    "      flow_key = id\n",
    "      id = id.split('/')[0]\n",
    "    else:\n",
    "      flow_key = None\n",
    "    if route == 'datasets':\n",
    "      result = update_dataset_route(id, org_id, req_json)\n",
    "    if route == 'models':\n",
    "      result = make_prediction(id, req_json, request, flow_key)\n",
    "  else:\n",
    "    if route == 'datasets':\n",
    "      result = create_dataset_route(id, org_id, req_json, request, tasks)\n",
    "    if route == 'models':\n",
    "      if dataset_id:\n",
    "        result = create_model_route(dataset_id, org_id, req_json, train_handler, status_handler)\n",
    "      else:\n",
    "        result = ExternalAPIStatusCode(400), {'status': 'no valid id provided'}\n",
    "\n",
    "elif request.method == 'DELETE':\n",
    "  if id:\n",
    "    if route == 'datasets':\n",
    "      result = delete_dataset_route(id, org_id)\n",
    "    if route == 'models':\n",
    "      result = delete_model_route(id, org_id)\n",
    "  else:\n",
    "    result = ExternalAPIStatusCode(400), {'status': 'no id provided'}\n",
    "\n",
    "elif request.method == 'GET':\n",
    "  if id:\n",
    "    if route == 'datasets':\n",
    "      result = get_dataset_route(id, org_id)\n",
    "    if route == 'models':\n",
    "      result = get_model_route(id, org_id)\n",
    "  else:\n",
    "    if route == 'datasets':\n",
    "      result = get_all_datasets_route(org_id)\n",
    "    if route == 'models':\n",
    "      result = get_all_models_route(org_id)\n",
    "```"
   ]
  },
  {
   "cell_type": "code",
   "execution_count": 18,
   "metadata": {},
   "outputs": [
    {
     "name": "stdout",
     "output_type": "stream",
     "text": [
      "{'status': 'success', 'name': 'Mobile Price Classification'}\n"
     ]
    }
   ],
   "source": [
    "# GET Request for same model\n",
    "# api-endpoint\n",
    "URL = \"https://api.akk.io/v1/models\"\n",
    "\n",
    "# defining a params dict for the parameters to be sent to the API\n",
    "PARAMS = {\n",
    "    'id':selected_model[0]['id'], \n",
    "    'api_key':akkio.api_key\n",
    "}\n",
    "\n",
    "# sending get request and saving the response as response object\n",
    "r = requests.get(url=URL, params=PARAMS)\n",
    "\n",
    "# extracting data in json format\n",
    "data = r.json()\n",
    "print(data)"
   ]
  },
  {
   "cell_type": "code",
   "execution_count": 20,
   "metadata": {},
   "outputs": [
    {
     "name": "stdout",
     "output_type": "stream",
     "text": [
      "{'id': '0vxNAaCwhhz3atEaCFXC', 'name': 'train.csv'}\n",
      "{'id': '2Uyjxng1dnK68xgAjhzZ', 'name': 'customer_data.csv'}\n",
      "{'id': '4DQfAasw0UcoGs6LSz4p', 'name': 'train.csv'}\n",
      "{'id': '9Plny1gvkQpo6seL4FXG', 'name': 'Forecast for train.csv'}\n",
      "{'id': 'A2Cysy9aUFUZcSlXuJHf', 'name': 'train.csv'}\n",
      "{'id': 'AXh0ku2XbnMxxKp3EBm7', 'name': 'payment_data.csv'}\n",
      "{'id': 'H4gXfc0D3mEYDNBBXb93', 'name': 'train.csv'}\n",
      "{'id': 'IUG70PWHBNSOeRl48MCd', 'name': 'customer_data.csv'}\n",
      "{'id': 'J4PSsJLcdXeNZ5FpY3jS', 'name': 'Forecast for train.csv'}\n",
      "{'id': 'KGoeWNd38WHi6oDtRijt', 'name': 'Forecast for train.csv'}\n",
      "{'id': 'N0ndiKMYX0PytTnfO0o7', 'name': 'train.csv'}\n",
      "{'id': 'O8o1n9ihz5IBpWfXr4jK', 'name': 'Forecast for train.csv'}\n",
      "{'id': 'QRYbkXhb334XYnbgbobQ', 'name': 'payment_data.csv'}\n",
      "{'id': 'RJP8Gf5JADxcvhMlGSrj', 'name': 'Forecast for train.csv'}\n",
      "{'id': 'SoXUrFouawVcxkw43cWu', 'name': 'train.csv'}\n",
      "{'id': 'Y88lmHkWr9kjUAyzU82u', 'name': 'customer_data.csv'}\n",
      "{'id': 'b2XckSzX4nthKiCkNJzK', 'name': 'customer_data.csv'}\n",
      "{'id': 'bcDXPSu0kuHAr6HlpJSy', 'name': 'train.csv'}\n",
      "{'id': 'cLpkPFidRsb6ZOf7UJKb', 'name': 'customer_data.csv'}\n",
      "{'id': 'lQkDWepnPLL2xaY92DFV', 'name': 'customer_data.csv'}\n",
      "{'id': 'o08sBg5TbG119D7M3WPL', 'name': 'payment_data.csv'}\n",
      "{'id': 'vvqAXjubimE98KzTVwam', 'name': 'customer_data.csv'}\n",
      "{'id': 'wUKYkwdW6mieWz3ryl79', 'name': 'train.csv'}\n",
      "{'id': 'zQo0G7ay0SVZEHFD746d', 'name': 'housing.csv'}\n",
      "Num Dataset: 24\n",
      "\n"
     ]
    }
   ],
   "source": [
    "# List all available datasets\n",
    "# Why are there multiple datasets and how can figure out which one is the most up to date?\n",
    "datasets = akkio.get_datasets()['datasets']\n",
    "for ds in datasets:\n",
    "    print(ds)\n",
    "\n",
    "print(f\"Num Dataset: {len(datasets)}\\n\")"
   ]
  },
  {
   "cell_type": "code",
   "execution_count": 21,
   "metadata": {},
   "outputs": [
    {
     "name": "stdout",
     "output_type": "stream",
     "text": [
      "0vxNAaCwhhz3atEaCFXC train.csv\n"
     ]
    }
   ],
   "source": [
    "dataset_name = \"train.csv\"\n",
    "\n",
    "# training_dataset = akkio.get_dataset(dataset_id) # There's no get_dataset method???\n",
    "training_dataset = [dataset for dataset in datasets if dataset['name'] == dataset_name]\n",
    "\n",
    "dataset_id = training_dataset[0]['id']\n",
    "\n",
    "print(training_dataset[0]['id'], training_dataset[0]['name'])"
   ]
  },
  {
   "cell_type": "code",
   "execution_count": 22,
   "metadata": {},
   "outputs": [
    {
     "name": "stdout",
     "output_type": "stream",
     "text": [
      "status\n",
      "success\n",
      "\n",
      "\n",
      "model_id\n",
      "s594oz1TMoqkTRvMwo14\n",
      "\n",
      "\n",
      "stats\n",
      "[[{'field': 5, 'field_name': 'price_range', 'field_type': 'category', 'class': 0, 'class_name': '0', 'count': 20, 'true positives': 19, 'false positives': 2, 'false negatives': 1, 'precision': 0.9047619047619048, 'recall': 0.95, 'f1': 0.9268292682926829, 'frequency': 0.3448275862068966}, {'field': 5, 'field_name': 'price_range', 'field_type': 'category', 'class': 1, 'class_name': '2', 'count': 15, 'true positives': 13, 'false positives': 4, 'false negatives': 2, 'precision': 0.7647058823529411, 'recall': 0.8666666666666667, 'f1': 0.8125, 'frequency': 0.25862068965517243}, {'field': 5, 'field_name': 'price_range', 'field_type': 'category', 'class': 2, 'class_name': '1', 'count': 16, 'true positives': 11, 'false positives': 2, 'false negatives': 5, 'precision': 0.8461538461538461, 'recall': 0.6875, 'f1': 0.7586206896551724, 'frequency': 0.27586206896551724}, {'field': 5, 'field_name': 'price_range', 'field_type': 'category', 'class': 3, 'class_name': '3', 'count': 7, 'true positives': 6, 'false positives': 1, 'false negatives': 1, 'precision': 0.8571428571428571, 'recall': 0.8571428571428571, 'f1': 0.8571428571428571, 'frequency': 0.1206896551724138}]]\n",
      "\n",
      "\n",
      "field_importance\n",
      "{'ram': 0.7571492791175842, 'battery_power': 0.016706258058547974, 'px_width': 0.10209223628044128, 'px_height': 0.11625970155000687, 'int_memory': 0.007792475633323193, 'price_range': 7.250882116949242e-09}\n",
      "\n",
      "\n",
      "data_story\n",
      "[{'name': 'price_range', 'type': 'category', 'outcomes': [{'outcome': '0', 'causes': [{'field': 'ram', 'top_value': '2977', 'bottom_value': '2965'}, {'field': 'px_height', 'top_value': '626', 'bottom_value': '875'}, {'field': 'px_width', 'top_value': '1134', 'bottom_value': '1025'}, {'field': 'battery_power', 'top_value': '578', 'bottom_value': '506'}], 'top_case': 0.0, 'avg_case': 0.3146853146853147, 'bottom_case': 0.0}, {'outcome': '2', 'causes': [{'field': 'ram', 'top_value': '1519', 'bottom_value': '2977'}, {'field': 'px_height', 'top_value': '757', 'bottom_value': '626'}, {'field': 'px_width', 'top_value': '1518', 'bottom_value': '1134'}, {'field': 'battery_power', 'top_value': '576', 'bottom_value': '578'}], 'top_case': 0.16666666666666666, 'avg_case': 0.3111888111888112, 'bottom_case': 0.5}, {'outcome': '1', 'causes': [{'field': 'ram', 'top_value': '565', 'bottom_value': '2977'}, {'field': 'px_height', 'top_value': '464', 'bottom_value': '626'}, {'field': 'px_width', 'top_value': '781', 'bottom_value': '1134'}, {'field': 'battery_power', 'top_value': '652', 'bottom_value': '578'}], 'top_case': 0.3333333333333333, 'avg_case': 0.2517482517482518, 'bottom_case': 0.3333333333333333}, {'outcome': '3', 'causes': [{'field': 'ram', 'top_value': '2965', 'bottom_value': '2977'}, {'field': 'px_height', 'top_value': '875', 'bottom_value': '626'}, {'field': 'px_width', 'top_value': '1025', 'bottom_value': '1134'}, {'field': 'battery_power', 'top_value': '506', 'bottom_value': '578'}], 'top_case': 0.3333333333333333, 'avg_case': 0.12237762237762238, 'bottom_case': 0.16666666666666666}]}]\n",
      "\n",
      "\n"
     ]
    }
   ],
   "source": [
    "# create a model\n",
    "new_model = akkio.create_model(dataset_id, ['price_range'], [], {'duration': 1})\n",
    "\n",
    "for key,val in new_model.items():\n",
    "    print(key)\n",
    "    print(val)\n",
    "    print(\"\\n\")"
   ]
  },
  {
   "cell_type": "code",
   "execution_count": 14,
   "metadata": {},
   "outputs": [
    {
     "name": "stdout",
     "output_type": "stream",
     "text": [
      "{'ram': '2549', 'battery_power': '', 'px_width': '756', 'px_height': '20', 'int_memory': '7', 'price_range': '1', 'blue': '', 'clock_speed': '', 'dual_sim': '', 'fc': '', 'four_g': '', 'm_dep': '', 'mobile_wt': '', 'n_cores': '', 'pc': '', 'sc_h': '', 'sc_w': '', 'talk_time': '', 'three_g': '', 'touch_screen': '', 'wifi': '', 'Probability price_range is 2': 0.00678525073453784, 'Probability price_range is 0': 0.0015995379071682692, 'Probability price_range is 3': 0.0003144958463963121, 'Probability price_range is 1': 0.9913007616996765}\n"
     ]
    }
   ],
   "source": [
    "# Create dummy data\n",
    "new_data = []\n",
    "new_data.append({\"ram\":\"2549\",\"px_width\":\"756\",\"px_height\":\"20\",\"int_memory\":\"7\"})\n",
    "new_data.append({\"ram\":\"2600\",\"px_width\":\"600\",\"px_height\":\"10\",\"int_memory\":\"4\"})\n",
    "\n",
    "# Predictions\n",
    "prediction = akkio.make_prediction(selected_model[0]['id'], new_data, explain=True)\n",
    "print(prediction['predictions'][0])"
   ]
  }
 ],
 "metadata": {
  "kernelspec": {
   "display_name": "base",
   "language": "python",
   "name": "python3"
  },
  "language_info": {
   "codemirror_mode": {
    "name": "ipython",
    "version": 3
   },
   "file_extension": ".py",
   "mimetype": "text/x-python",
   "name": "python",
   "nbconvert_exporter": "python",
   "pygments_lexer": "ipython3",
   "version": "3.10.9"
  },
  "orig_nbformat": 4
 },
 "nbformat": 4,
 "nbformat_minor": 2
}
