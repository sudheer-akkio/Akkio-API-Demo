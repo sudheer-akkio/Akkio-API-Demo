{
 "cells": [
  {
   "cell_type": "code",
   "execution_count": null,
   "metadata": {},
   "outputs": [],
   "source": [
    "# Setup\n",
    "import akkio\n",
    "import utils\n",
    "\n",
    "API_KEY = \"463c3703-cb1d-434b-a540-bbcb4b5db0d7\"\n",
    "akkio.api_key = API_KEY\n",
    "utils.API_KEY = API_KEY"
   ]
  },
  {
   "cell_type": "code",
   "execution_count": null,
   "metadata": {},
   "outputs": [],
   "source": [
    "# Show all available datasets\n",
    "datasets = akkio.get_datasets()\n",
    "print(datasets)"
   ]
  },
  {
   "cell_type": "code",
   "execution_count": null,
   "metadata": {},
   "outputs": [],
   "source": [
    "# Import train data\n",
    "train_filepath = \"Lead_Scoring-train.csv\"\n",
    "train_data = utils.import_data(train_filepath)"
   ]
  },
  {
   "cell_type": "code",
   "execution_count": null,
   "metadata": {},
   "outputs": [],
   "source": [
    "# Create a new empty dataset\n",
    "new_dataset = akkio.create_dataset(\"lead scoring api test 3\")\n",
    "print(new_dataset)"
   ]
  },
  {
   "cell_type": "code",
   "execution_count": null,
   "metadata": {},
   "outputs": [],
   "source": [
    "# Add rows to new dataset\n",
    "dataset_id = new_dataset[\"dataset_id\"]\n",
    "\n",
    "response = utils.send_dataset_api_request(dataset_id, train_data)\n",
    "print(response)"
   ]
  },
  {
   "cell_type": "code",
   "execution_count": null,
   "metadata": {},
   "outputs": [],
   "source": [
    "# Import test data\n",
    "test_filepath = \"test_data.csv\"\n",
    "test_data = import_data(test_filepath)"
   ]
  },
  {
   "cell_type": "code",
   "execution_count": null,
   "metadata": {},
   "outputs": [],
   "source": [
    "# Add rows to existing dataset\n",
    "dataset_id = \"NRbO45XKbglMwNVmczZl\" #find dataset_id from dataset tab in Akkio\n",
    "selected_dataset = [ds for ds in datasets[\"datasets\"] if ds[\"id\"] == dataset_id]\n",
    "print(selected_dataset)\n",
    "\n",
    "response = send_api_request(dataset_id, test_data)\n",
    "print(response)"
   ]
  }
 ],
 "metadata": {
  "language_info": {
   "name": "python"
  }
 },
 "nbformat": 4,
 "nbformat_minor": 2
}
