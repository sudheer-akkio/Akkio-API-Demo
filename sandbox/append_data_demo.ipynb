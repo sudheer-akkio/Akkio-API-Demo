{
 "cells": [
  {
   "cell_type": "code",
   "execution_count": null,
   "metadata": {},
   "outputs": [],
   "source": [
    "# Setup\n",
    "import akkio\n",
    "import utils\n",
    "\n",
    "API_KEY = \"\" # insert API key\n",
    "akkio.api_key = API_KEY\n",
    "utils.API_KEY = API_KEY"
   ]
  },
  {
   "cell_type": "code",
   "execution_count": null,
   "metadata": {},
   "outputs": [],
   "source": [
    "# Show all available datasets\n",
    "datasets = akkio.get_datasets()\n",
    "print(datasets)"
   ]
  },
  {
   "cell_type": "code",
   "execution_count": null,
   "metadata": {},
   "outputs": [],
   "source": [
    "# Import train data\n",
    "train_filepath = \"Lead_Scoring-train.csv\"\n",
    "train_data = utils.import_data(train_filepath)"
   ]
  },
  {
   "cell_type": "code",
   "execution_count": null,
   "metadata": {},
   "outputs": [],
   "source": [
    "# Create a new empty dataset\n",
    "new_dataset = akkio.create_dataset(\"lead scoring api test\")\n",
    "print(new_dataset)"
   ]
  },
  {
   "cell_type": "code",
   "execution_count": null,
   "metadata": {},
   "outputs": [],
   "source": [
    "# Add rows to new dataset\n",
    "dataset_id = new_dataset[\"dataset_id\"]\n",
    "\n",
    "response = utils.add_rows_to_dataset(dataset_id, train_data)\n",
    "print(response)"
   ]
  },
  {
   "cell_type": "code",
   "execution_count": null,
   "metadata": {},
   "outputs": [],
   "source": [
    "# Import test data\n",
    "test_filepath = \"Lead_Scoring-test.csv\"\n",
    "test_data = utils.import_data(test_filepath)"
   ]
  },
  {
   "cell_type": "code",
   "execution_count": null,
   "metadata": {},
   "outputs": [],
   "source": [
    "# Add rows to existing dataset\n",
    "dataset_id = \"\" #find dataset_id from dataset tab in Akkio\n",
    "selected_dataset = [ds for ds in datasets[\"datasets\"] if ds[\"id\"] == dataset_id]\n",
    "print(selected_dataset)\n",
    "\n",
    "response = utils.add_rows_to_dataset(dataset_id, test_data)\n",
    "print(response)"
   ]
  }
 ],
 "metadata": {
  "kernelspec": {
   "display_name": "base",
   "language": "python",
   "name": "python3"
  },
  "language_info": {
   "codemirror_mode": {
    "name": "ipython",
    "version": 3
   },
   "file_extension": ".py",
   "mimetype": "text/x-python",
   "name": "python",
   "nbconvert_exporter": "python",
   "pygments_lexer": "ipython3",
   "version": "3.10.9"
  }
 },
 "nbformat": 4,
 "nbformat_minor": 2
}
