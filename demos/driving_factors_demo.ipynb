{
 "cells": [
  {
   "cell_type": "code",
   "execution_count": null,
   "metadata": {},
   "outputs": [],
   "source": [
    "# Setup\n",
    "import akkio\n",
    "import utils\n",
    "\n",
    "API_KEY = \"463c3703-cb1d-434b-a540-bbcb4b5db0d7\"\n",
    "akkio.api_key = API_KEY\n",
    "utils.API_KEY = API_KEY"
   ]
  },
  {
   "cell_type": "code",
   "execution_count": null,
   "metadata": {},
   "outputs": [],
   "source": [
    "# Add rows to existing dataset\n",
    "dataset_id = \"WfQmqn8K8kClDnFtLXD2\" #find dataset_id from dataset tab in Akkio\n",
    "\n",
    "# create a model\n",
    "new_model = akkio.create_model(dataset_id, ['Converted'], [], {'duration': 10})\n",
    "\n",
    "for key,val in new_model.items():\n",
    "    print(key)\n",
    "    print(val)\n",
    "    print(\"\\n\")"
   ]
  },
  {
   "cell_type": "code",
   "execution_count": null,
   "metadata": {},
   "outputs": [],
   "source": [
    "# Grab all models\n",
    "models = akkio.get_models()['models']\n",
    "for model in models:\n",
    "    print(model)\n",
    "print(f\"Number of models: {len(models)}\\n\")"
   ]
  },
  {
   "cell_type": "code",
   "execution_count": 28,
   "metadata": {},
   "outputs": [
    {
     "name": "stdout",
     "output_type": "stream",
     "text": [
      "Request to make predictions pd3AI3fUVIaz0QyVXMRd with 1 samples completed in 1.9436 seconds.\n",
      "{'Prospect ID': '32151ee1-2f55-4224-83ef-91f927c75d6e', 'Lead Number': 605219, 'Lead Origin': 'API', 'Lead Source': 'Olark Chat', 'Do Not Email': 'No', 'Do Not Call': 'No', 'Converted': '0', 'TotalVisits': '0.0', 'Total Time Spent on Website': 0, 'Page Views Per Visit': '0.0', 'Last Activity': 'Email Opened', 'Country': 'nan', 'Specialization': 'Select', 'How did you hear about X Education': 'Select', 'What is your current occupation': 'Unemployed', 'What matters most to you in choosing a course': 'Better Career Prospects', 'Search': 'No', 'Newspaper Article': 'No', 'X Education Forums': 'No', 'Newspaper': 'No', 'Digital Advertisement': 'No', 'Through Recommendations': 'No', 'Tags': 'nan', 'Lead Quality': 'nan', 'Lead Profile': 'Select', 'City': 'Select', 'Asymmetrique Activity Index': 'nan', 'Asymmetrique Profile Index': 'nan', 'Asymmetrique Activity Score': 'nan', 'Asymmetrique Profile Score': 'nan', 'A free copy of Mastering The Interview': 'No', 'Last Notable Activity': 'Email Opened', 'Magazine': 'No', 'Receive More Updates About Our Courses': 'No', 'Update me on Supply Chain Content': 'No', 'Get updates on DM Content': 'No', 'I agree to pay the amount through cheque': 'No', 'Probability Converted is 0': 0.9567168354988098, 'Probability Converted is 1': 0.04328320920467377, 'akkio_prediction_factor_Prospect ID': 0.0, 'akkio_prediction_factor_Lead Number': 0.0, 'akkio_prediction_factor_Lead Origin': 0.00599627522751689, 'akkio_prediction_factor_Lead Source': 0.015200142748653889, 'akkio_prediction_factor_Do Not Email': 0.0007512629963457584, 'akkio_prediction_factor_Do Not Call': 0.0, 'akkio_prediction_factor_TotalVisits': 0.08841226249933243, 'akkio_prediction_factor_Total Time Spent on Website': 0.6470483541488647, 'akkio_prediction_factor_Page Views Per Visit': 0.16218405961990356, 'akkio_prediction_factor_Last Activity': 0.01647745445370674, 'akkio_prediction_factor_Country': 0.0, 'akkio_prediction_factor_Specialization': 0.006682245992124081, 'akkio_prediction_factor_How did you hear about X Education': 0.007178034167736769, 'akkio_prediction_factor_What is your current occupation': 0.00412144185975194, 'akkio_prediction_factor_What matters most to you in choosing a course': 0.0020276138093322515, 'akkio_prediction_factor_Search': 0.000278109306236729, 'akkio_prediction_factor_Newspaper Article': 2.4154860511771403e-05, 'akkio_prediction_factor_X Education Forums': 2.0894178305752575e-05, 'akkio_prediction_factor_Newspaper': 7.944823664729483e-06, 'akkio_prediction_factor_Digital Advertisement': 3.8582191336899996e-05, 'akkio_prediction_factor_Through Recommendations': 4.1377468733116984e-05, 'akkio_prediction_factor_Tags': 0.0, 'akkio_prediction_factor_Lead Quality': 0.0, 'akkio_prediction_factor_Lead Profile': 0.02460496500134468, 'akkio_prediction_factor_City': 0.002633142052218318, 'akkio_prediction_factor_Asymmetrique Activity Index': 0.0, 'akkio_prediction_factor_Asymmetrique Profile Index': 0.0, 'akkio_prediction_factor_Asymmetrique Activity Score': 0.0, 'akkio_prediction_factor_Asymmetrique Profile Score': 0.0, 'akkio_prediction_factor_A free copy of Mastering The Interview': 0.007457655388861895, 'akkio_prediction_factor_Last Notable Activity': 0.007650251034647226}\n"
     ]
    }
   ],
   "source": [
    "# Predictions\n",
    "test_filepath = \"Lead_Scoring-test.csv\"\n",
    "test_data = utils.import_data(test_filepath)\n",
    "\n",
    "for row in test_data:\n",
    "    row[\"Converted\"] = \"\"\n",
    "\n",
    "model_id = \"pd3AI3fUVIaz0QyVXMRd\"\n",
    "\n",
    "# Need to overwrite make_prediction to pass in show_factors:true in json body of POST call -- add to utils and rename functions\n",
    "prediction = utils.make_prediction(model_id, test_data[0:1], explain=True, show_factors=True)\n",
    "for pred in prediction['predictions']:\n",
    "    print(pred)"
   ]
  }
 ],
 "metadata": {
  "kernelspec": {
   "display_name": "base",
   "language": "python",
   "name": "python3"
  },
  "language_info": {
   "codemirror_mode": {
    "name": "ipython",
    "version": 3
   },
   "file_extension": ".py",
   "mimetype": "text/x-python",
   "name": "python",
   "nbconvert_exporter": "python",
   "pygments_lexer": "ipython3",
   "version": "3.10.9"
  }
 },
 "nbformat": 4,
 "nbformat_minor": 2
}
