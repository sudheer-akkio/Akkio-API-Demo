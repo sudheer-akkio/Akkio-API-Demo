{
 "cells": [
  {
   "cell_type": "code",
   "execution_count": null,
   "metadata": {},
   "outputs": [],
   "source": [
    "# Imports\n",
    "import json\n",
    "import os\n",
    "import time\n",
    "\n",
    "import akkio\n",
    "\n",
    "import utils"
   ]
  },
  {
   "cell_type": "code",
   "execution_count": null,
   "metadata": {},
   "outputs": [],
   "source": [
    "# Setup\n",
    "API_KEY = \"6bb5ca2b-ad1d-4eb4-b3a6-24cf1878dc63\"\n",
    "akkio.api_key = API_KEY\n",
    "utils.API_KEY = API_KEY"
   ]
  },
  {
   "cell_type": "code",
   "execution_count": null,
   "metadata": {},
   "outputs": [],
   "source": [
    "# Partition Data (OPTIONAL)\n",
    "# filename = \"ACI_Data_Small.csv\"\n",
    "\n",
    "# utils.partition_data(filename, out_location=os.getcwd(), test_partition=0.1, shuffle=True)"
   ]
  },
  {
   "cell_type": "code",
   "execution_count": null,
   "metadata": {},
   "outputs": [],
   "source": [
    "# Import Data\n",
    "train_filepath = os.path.join(\"data\", \"All Clients Model Train.csv\")\n",
    "\n",
    "train_data = utils.import_data(train_filepath)\n",
    "\n",
    "train_data_dict = utils.df_to_dict(train_data)"
   ]
  },
  {
   "cell_type": "code",
   "execution_count": null,
   "metadata": {},
   "outputs": [],
   "source": [
    "# Create dataset obj\n",
    "dataset_name = \"All_Client_Data_API_Test\"\n",
    "\n",
    "new_dataset = akkio.create_dataset(dataset_name)\n",
    "print(new_dataset)\n",
    "\n",
    "# get dataset_id\n",
    "dataset_id = new_dataset[\"dataset_id\"]\n",
    "\n",
    "# Add rows to new dataset\n",
    "response = utils.add_rows_to_dataset(dataset_id, train_data_dict)\n",
    "\n",
    "time.sleep(5) # Needed currently to ensure dataset parsing completes on the backend"
   ]
  },
  {
   "cell_type": "code",
   "execution_count": null,
   "metadata": {},
   "outputs": [],
   "source": [
    "# Train ML Model \n",
    "# (Train a dummy model to force project creation in the UI (I know this is suboptimal, but we will optimize this out in our v2 API))\n",
    "\n",
    "# UI Mapping:\n",
    "#     1    = Super Fast (Do not recommend)\n",
    "#     10   = Fastest\n",
    "#     60   = High Quality\n",
    "#     300  = Higher Quality\n",
    "#     1800 = Production\n",
    "\n",
    "training_mode = 300\n",
    "predict_field = [\"Actual Impressions\"]\n",
    "ignore_fields = [\"Actual Spend (USD)\"]\n",
    "\n",
    "dataset_id = \"bzBgUgBcYzuD7R9sMh1F\"\n",
    "\n",
    "new_model = akkio.create_model(\n",
    "    dataset_id,\n",
    "    predict_field,\n",
    "    ignore_fields,\n",
    "    {\"duration\": training_mode, \"extra_attention\": True},\n",
    ")\n",
    "\n",
    "for key,val in new_model.items():\n",
    "    print(key)\n",
    "    print(val)\n",
    "    print(\"\\n\")"
   ]
  },
  {
   "cell_type": "code",
   "execution_count": null,
   "metadata": {},
   "outputs": [],
   "source": [
    "# Predictions\n",
    "show_driving_factors = True\n",
    "save_preds = True\n",
    "\n",
    "resp_directory = \"prediction_results\"\n",
    "os.makedirs(resp_directory, exist_ok=True)  # Ensure directory exists\n",
    "\n",
    "test_filename = os.path.join(\"data\",\"Test Dataset with Renormalisation_Test_Partition.csv\") # path to CSV\n",
    "\n",
    "test_data = utils.import_data(test_filename)\n",
    "test_data_dict = utils.df_to_dict(test_data)\n",
    "\n",
    "# get model_id\n",
    "model_id = new_model[\"model_id\"]\n",
    "\n",
    "test_filepath = os.path.join(resp_directory, \"client_impressions_predictions_PQ.csv\")\n",
    "\n",
    "# Need to overwrite make_prediction to pass in show_factors:true in json body of POST call -- add to utils and rename functions\n",
    "prediction = utils.make_prediction(model_id, test_data_dict, show_factors=show_driving_factors, save=save_preds, save_file_path=test_filepath)\n",
    "for pred in prediction['predictions']:\n",
    "    print(pred)"
   ]
  }
 ],
 "metadata": {
  "kernelspec": {
   "display_name": "base",
   "language": "python",
   "name": "python3"
  },
  "language_info": {
   "codemirror_mode": {
    "name": "ipython",
    "version": 3
   },
   "file_extension": ".py",
   "mimetype": "text/x-python",
   "name": "python",
   "nbconvert_exporter": "python",
   "pygments_lexer": "ipython3",
   "version": "3.10.9"
  }
 },
 "nbformat": 4,
 "nbformat_minor": 2
}
