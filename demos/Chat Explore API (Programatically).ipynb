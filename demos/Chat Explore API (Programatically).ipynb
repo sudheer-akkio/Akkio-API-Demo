{
 "cells": [
  {
   "cell_type": "code",
   "execution_count": null,
   "id": "fda7d296",
   "metadata": {},
   "outputs": [],
   "source": [
    "# Create a request\n",
    "import requests\n",
    "import time\n",
    "\n",
    "# Define the API key and headers\n",
    "api_key = \"4cf557b1-fee5-467b-812d-9f7c8889bc38\"\n",
    "headers = {\n",
    "    \"Content-Type\": \"application/json\",\n",
    "    \"X-API-Key\": api_key\n",
    "}\n",
    "\n",
    "# Define the API URL for creating a new chat\n",
    "create_chat_url = \"https://api.akkio.com/api/v1/chat-explore/new\"\n",
    "\n",
    "# Payload for creating a new chat\n",
    "create_payload = {\n",
    "    \"project_id\": \"VJQA1flvZ2meAFxMic0w\",\n",
    "    \"messages\": [\n",
    "        {\n",
    "            \"role\": \"user\",\n",
    "            \"content\": \"Describe this data in a table.\"\n",
    "        }\n",
    "    ]\n",
    "}\n",
    "\n",
    "# Make the POST request to create a new chat\n",
    "create_response = requests.post(create_chat_url, json=create_payload, headers=headers)\n",
    "\n",
    "# Extract the task_id from the response\n",
    "task_id = create_response.json().get(\"task_id\")\n",
    "\n",
    "# Check if task_id is received\n",
    "if not task_id:\n",
    "    print(\"Error in creating chat:\", create_response.text)\n",
    "    exit()\n",
    "\n",
    "print(f\"Task ID: {task_id}\")"
   ]
  },
  {
   "cell_type": "code",
   "execution_count": null,
   "id": "f1a00177",
   "metadata": {},
   "outputs": [],
   "source": [
    "# Query for Task Status\n",
    "# Define the API URL for checking the task status\n",
    "status_url = f\"https://api.akkio.com/api/v1/chat-explore/status/{task_id}\"\n",
    "\n",
    "# Poll the status endpoint until the task is completed\n",
    "while True:\n",
    "    status_response = requests.get(status_url, headers=headers)\n",
    "    status_data = status_response.json()\n",
    "    status = status_data.get(\"status\")\n",
    "\n",
    "    print(f\"Current Status: {status}\")\n",
    "\n",
    "    if status == \"SUCCEEDED\":\n",
    "        # Extract the location for the result\n",
    "        result_location = status_data[\"metadata\"][\"location\"]\n",
    "        break\n",
    "    elif status == \"FAILED\":\n",
    "        print(\"Task failed.\")\n",
    "        # exit()\n",
    "        break\n",
    "\n",
    "    # Wait for some time before polling again\n",
    "    time.sleep(20)  # Adjust the sleep time as needed"
   ]
  },
  {
   "cell_type": "code",
   "execution_count": null,
   "id": "e2e69df7",
   "metadata": {},
   "outputs": [],
   "source": [
    "# Query for Result\n",
    "# Define the API URL for retrieving the result\n",
    "result_url = f\"https://api.akkio.com{result_location}\"\n",
    "\n",
    "# Make the GET request to retrieve the result\n",
    "result_response = requests.get(result_url, headers=headers)\n",
    "\n",
    "if result_response.status_code == 200:\n",
    "    result_data = result_response.json()\n",
    "    print(result_data)\n",
    "else:\n",
    "    print(\"Error in fetching result:\", result_response.text)"
   ]
  }
 ],
 "metadata": {
  "kernelspec": {
   "display_name": "Python 3 (ipykernel)",
   "language": "python",
   "name": "python3"
  },
  "language_info": {
   "codemirror_mode": {
    "name": "ipython",
    "version": 3
   },
   "file_extension": ".py",
   "mimetype": "text/x-python",
   "name": "python",
   "nbconvert_exporter": "python",
   "pygments_lexer": "ipython3",
   "version": "3.10.9"
  }
 },
 "nbformat": 4,
 "nbformat_minor": 5
}
