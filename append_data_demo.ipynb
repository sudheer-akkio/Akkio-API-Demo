{
 "cells": [
  {
   "cell_type": "code",
   "execution_count": null,
   "metadata": {},
   "outputs": [],
   "source": [
    "# Imports\n",
    "import os\n",
    "import time\n",
    "\n",
    "import akkio\n",
    "\n",
    "import utils"
   ]
  },
  {
   "cell_type": "code",
   "execution_count": null,
   "metadata": {},
   "outputs": [],
   "source": [
    "# Setup\n",
    "API_KEY = \"\"\n",
    "akkio.api_key = API_KEY\n",
    "utils.API_KEY = API_KEY"
   ]
  },
  {
   "cell_type": "code",
   "execution_count": null,
   "metadata": {},
   "outputs": [],
   "source": [
    "# Import Data\n",
    "train_filepath = os.path.join(\"data\", \"ACI_Data_Small-test.csv\")\n",
    "\n",
    "input_data = utils.import_data(train_filepath)\n",
    "\n",
    "input_data_dict = utils.df_to_dict(input_data)"
   ]
  },
  {
   "cell_type": "code",
   "execution_count": null,
   "metadata": {},
   "outputs": [],
   "source": [
    "# investigate all available datasets via API (note you can also review datasets in the \"Datasets\" tab in Akkio UI)\n",
    "\n",
    "# list datasets in your team\n",
    "datasets = akkio.get_datasets()['datasets']\n",
    "for dataset in datasets:\n",
    "  print(dataset)"
   ]
  },
  {
   "cell_type": "code",
   "execution_count": null,
   "metadata": {},
   "outputs": [],
   "source": [
    "# get dataset_id from Akkio UI or from API\n",
    "dataset_id = \"\"\n",
    "\n",
    "# Add rows to new dataset\n",
    "response = utils.add_rows_to_dataset(dataset_id, input_data_dict)\n",
    "\n",
    "# time.sleep(5) # Needed currently to ensure dataset parsing completes on the backend"
   ]
  },
  {
   "cell_type": "code",
   "execution_count": null,
   "metadata": {},
   "outputs": [],
   "source": [
    "# (OPTIONAL) Set dataset fields if original parse operations isn't correct\n",
    "\n",
    " # set dataset fields correctly (force schema)\n",
    "# filed column type options are below\n",
    "# - category\n",
    "# - id\n",
    "# - integer\n",
    "# - float\n",
    "# - string\n",
    "# - date\n",
    "# - unknown (maps to disabled)\n",
    "fields_types = [\n",
    "]\n",
    "\n",
    "field_names = list(input_data.columns)\n",
    "\n",
    "fields = [\n",
    "    {\"name\": name, \"type\": typ, \"valid\": True}\n",
    "    for name, typ in zip(field_names, fields_types)\n",
    "]\n",
    "\n",
    "response = utils.set_dataset_fields(dataset_id, fields)"
   ]
  }
 ],
 "metadata": {
  "kernelspec": {
   "display_name": "base",
   "language": "python",
   "name": "python3"
  },
  "language_info": {
   "codemirror_mode": {
    "name": "ipython",
    "version": 3
   },
   "file_extension": ".py",
   "mimetype": "text/x-python",
   "name": "python",
   "nbconvert_exporter": "python",
   "pygments_lexer": "ipython3",
   "version": "3.10.9"
  }
 },
 "nbformat": 4,
 "nbformat_minor": 2
}
