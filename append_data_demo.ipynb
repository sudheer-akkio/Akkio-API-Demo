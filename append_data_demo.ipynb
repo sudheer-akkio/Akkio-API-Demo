{
 "cells": [
  {
   "cell_type": "code",
   "execution_count": null,
   "metadata": {},
   "outputs": [],
   "source": [
    "# Imports\n",
    "import os\n",
    "import time\n",
    "\n",
    "import akkio\n",
    "\n",
    "import utils"
   ]
  },
  {
   "cell_type": "code",
   "execution_count": null,
   "metadata": {},
   "outputs": [],
   "source": [
    "# Setup\n",
    "API_KEY = \"\"\n",
    "akkio.api_key = API_KEY\n",
    "utils.API_KEY = API_KEY"
   ]
  },
  {
   "cell_type": "code",
   "execution_count": null,
   "metadata": {},
   "outputs": [],
   "source": [
    "# Import Data\n",
    "train_filepath = os.path.join(\"data\", \"ACI_Data_Small-test.csv\")\n",
    "\n",
    "input_data = utils.import_data(train_filepath)\n",
    "\n",
    "input_data_dict = utils.df_to_dict(input_data)"
   ]
  },
  {
   "cell_type": "code",
   "execution_count": null,
   "metadata": {},
   "outputs": [],
   "source": [
    "# investigate all available datasets via API (note you can also review datasets in the \"Datasets\" tab in Akkio UI)\n",
    "\n",
    "# list datasets in your team\n",
    "datasets = akkio.get_datasets()['datasets']\n",
    "for dataset in datasets:\n",
    "  print(dataset)"
   ]
  },
  {
   "cell_type": "code",
   "execution_count": null,
   "metadata": {},
   "outputs": [],
   "source": [
    "# get dataset_id from Akkio UI or from API\n",
    "dataset_id = \"\"\n",
    "\n",
    "# Add rows to new dataset\n",
    "response = utils.add_rows_to_dataset(dataset_id, input_data_dict)\n",
    "\n",
    "# time.sleep(5) # Needed currently to ensure dataset parsing completes on the backend"
   ]
  }
 ],
 "metadata": {
  "kernelspec": {
   "display_name": "base",
   "language": "python",
   "name": "python3"
  },
  "language_info": {
   "codemirror_mode": {
    "name": "ipython",
    "version": 3
   },
   "file_extension": ".py",
   "mimetype": "text/x-python",
   "name": "python",
   "nbconvert_exporter": "python",
   "pygments_lexer": "ipython3",
   "version": "3.10.9"
  }
 },
 "nbformat": 4,
 "nbformat_minor": 2
}
